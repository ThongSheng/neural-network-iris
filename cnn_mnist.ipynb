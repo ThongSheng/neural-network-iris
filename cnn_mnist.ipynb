{
  "nbformat": 4,
  "nbformat_minor": 0,
  "metadata": {
    "colab": {
      "provenance": []
    },
    "kernelspec": {
      "name": "python3",
      "display_name": "Python 3"
    },
    "language_info": {
      "name": "python"
    }
  },
  "cells": [
    {
      "cell_type": "markdown",
      "source": [
        "# Convolutional Neural Network (CNN)\n",
        "- CNN is a specialized type of ANN designed primary for processing grid-like data, such as images.\n",
        "- Neurons in ANN are typically **fully connected** whereas CNN contains multiple layers such as:\n",
        "  - convolutional layers,\n",
        "  - pooling layers,\n",
        "  - and a final fully connected layers."
      ],
      "metadata": {
        "id": "KYT41UvxNTII"
      }
    },
    {
      "cell_type": "code",
      "execution_count": null,
      "metadata": {
        "id": "T1N4OpWZJvX2"
      },
      "outputs": [],
      "source": [
        "import torch\n",
        "import torch.nn as nn\n",
        "import torch.nn.functional as F\n",
        "from torch.utils.data import DataLoader\n",
        "from torchvision import datasets, transforms\n",
        "from torchvision.utils import make_grid\n",
        "\n",
        "import numpy as np\n",
        "import pandas as pd\n",
        "from sklearn.metrics import confusion_matrix\n",
        "import matplotlib.pyplot as plt\n",
        "%matplotlib inline"
      ]
    },
    {
      "cell_type": "code",
      "source": [
        "# Convert MNIST image file into a 4d tensor (# of images, height, width, color channel)\n",
        "transform = transforms.ToTensor()"
      ],
      "metadata": {
        "id": "mryfMnS8K3R7"
      },
      "execution_count": null,
      "outputs": []
    },
    {
      "cell_type": "code",
      "source": [
        "# Train data\n",
        "train_data = datasets.MNIST(root='/cnn_data', train=True, download=True, transform=transform)\n",
        "train_data"
      ],
      "metadata": {
        "colab": {
          "base_uri": "https://localhost:8080/"
        },
        "id": "eJYYBRj2L6qO",
        "outputId": "800f94be-35b2-4e6e-f966-ba0060b26209"
      },
      "execution_count": null,
      "outputs": [
        {
          "output_type": "stream",
          "name": "stderr",
          "text": [
            "100%|██████████| 9.91M/9.91M [00:00<00:00, 15.9MB/s]\n",
            "100%|██████████| 28.9k/28.9k [00:00<00:00, 490kB/s]\n",
            "100%|██████████| 1.65M/1.65M [00:00<00:00, 4.42MB/s]\n",
            "100%|██████████| 4.54k/4.54k [00:00<00:00, 3.62MB/s]\n"
          ]
        },
        {
          "output_type": "execute_result",
          "data": {
            "text/plain": [
              "Dataset MNIST\n",
              "    Number of datapoints: 60000\n",
              "    Root location: /cnn_data\n",
              "    Split: Train\n",
              "    StandardTransform\n",
              "Transform: ToTensor()"
            ]
          },
          "metadata": {},
          "execution_count": 3
        }
      ]
    },
    {
      "cell_type": "code",
      "source": [
        "# Test Data\n",
        "test_data = datasets.MNIST(root='/cnn_data', train=False, download=True, transform=transform)\n",
        "test_data"
      ],
      "metadata": {
        "colab": {
          "base_uri": "https://localhost:8080/"
        },
        "id": "riqH-e6YMNQQ",
        "outputId": "2fe04649-d74a-48a2-db0d-1820091ad76e"
      },
      "execution_count": null,
      "outputs": [
        {
          "output_type": "execute_result",
          "data": {
            "text/plain": [
              "Dataset MNIST\n",
              "    Number of datapoints: 10000\n",
              "    Root location: /cnn_data\n",
              "    Split: Test\n",
              "    StandardTransform\n",
              "Transform: ToTensor()"
            ]
          },
          "metadata": {},
          "execution_count": 4
        }
      ]
    },
    {
      "cell_type": "code",
      "source": [
        "# Create a small batch size for images (e.g. 10)\n",
        "train_loader = DataLoader(train_data, batch_size=10, shuffle=True)\n",
        "test_loader = DataLoader(test_data, batch_size=10, shuffle=False)"
      ],
      "metadata": {
        "id": "1ZyS0UOsNIZV"
      },
      "execution_count": null,
      "outputs": []
    },
    {
      "cell_type": "markdown",
      "source": [
        "# Sample Model\n",
        "We're not building out a real model in this part of the code. This section is just to have further understanding of the inputs and outputs in each of the convolutional and pooling layers."
      ],
      "metadata": {
        "id": "E9leMkF1UBxq"
      }
    },
    {
      "cell_type": "code",
      "source": [
        "# Define our CNN model\n",
        "## 2 convolution layers:\n",
        "## one with some arbituary parameters: 1 input, 6 outputs, 3x3 kernel size and stride length of 1\n",
        "## the other with 6 inputs (because 6 outputs from the prev layer), 16 outputs, 3x3 kernel and stride 1\n",
        "conv1 = nn.Conv2d(in_channels=1, out_channels=6, kernel_size=3, stride=1)\n",
        "conv2 = nn.Conv2d(in_channels=6, out_channels=16, kernel_size=3, stride=1)"
      ],
      "metadata": {
        "id": "7Q4AuvGVOo2N"
      },
      "execution_count": null,
      "outputs": []
    },
    {
      "cell_type": "code",
      "source": [
        "# Grab 1 MNIST image\n",
        "for i, (X_train, y_train) in enumerate(train_data):\n",
        "  break\n",
        "\n",
        "X_train.shape"
      ],
      "metadata": {
        "colab": {
          "base_uri": "https://localhost:8080/"
        },
        "id": "2ck8NCVCPhEM",
        "outputId": "7e50f639-8fbe-47ad-a647-0788a61e1a59"
      },
      "execution_count": null,
      "outputs": [
        {
          "output_type": "execute_result",
          "data": {
            "text/plain": [
              "torch.Size([1, 28, 28])"
            ]
          },
          "metadata": {},
          "execution_count": 7
        }
      ]
    },
    {
      "cell_type": "code",
      "source": [
        "x = X_train.view(1,1,28,28) # 1 batch, 1 image, 28x28 dimension"
      ],
      "metadata": {
        "id": "44wtapaMPnsU"
      },
      "execution_count": null,
      "outputs": []
    },
    {
      "cell_type": "code",
      "source": [
        "# Perform first convolution\n",
        "x = F.relu(conv1(x))\n",
        "x.shape\n",
        "# 28x28 became 26x26 because we didn't specify padding, which is fine because the outer parameter pixels are useless anyways\n",
        "# 1 image, 6 feature maps (as specified in the conv1 command)"
      ],
      "metadata": {
        "colab": {
          "base_uri": "https://localhost:8080/"
        },
        "id": "FDg81hccQGjt",
        "outputId": "0b7e1b35-66df-4f95-b94b-2ccf602e5381"
      },
      "execution_count": null,
      "outputs": [
        {
          "output_type": "execute_result",
          "data": {
            "text/plain": [
              "torch.Size([1, 6, 26, 26])"
            ]
          },
          "metadata": {},
          "execution_count": 9
        }
      ]
    },
    {
      "cell_type": "code",
      "source": [
        "# Pass through pooling layer with kernel size 2 and stride 2\n",
        "x = F.max_pool2d(x, 2, 2)\n",
        "x.shape # 26x26 became 13x13 because we pooled with a 2x2 kernel"
      ],
      "metadata": {
        "colab": {
          "base_uri": "https://localhost:8080/"
        },
        "id": "v4tqZ25TRkCN",
        "outputId": "141fc5c3-4f00-4b06-82a4-83900fa149b1"
      },
      "execution_count": null,
      "outputs": [
        {
          "output_type": "execute_result",
          "data": {
            "text/plain": [
              "torch.Size([1, 6, 13, 13])"
            ]
          },
          "metadata": {},
          "execution_count": 10
        }
      ]
    },
    {
      "cell_type": "code",
      "source": [
        "# Perform second convolution\n",
        "x = F.relu(conv2(x))\n",
        "x.shape # lose 2 pixels around parameter because we didn't set padding again"
      ],
      "metadata": {
        "colab": {
          "base_uri": "https://localhost:8080/"
        },
        "id": "SnzNhuLsSpXc",
        "outputId": "3926986e-8f9c-476e-b8ef-1cdffec6456a"
      },
      "execution_count": null,
      "outputs": [
        {
          "output_type": "execute_result",
          "data": {
            "text/plain": [
              "torch.Size([1, 16, 11, 11])"
            ]
          },
          "metadata": {},
          "execution_count": 11
        }
      ]
    },
    {
      "cell_type": "code",
      "source": [
        "# Pass through 2nd pooling layer\n",
        "x = F.max_pool2d(x, 2, 2)\n",
        "x.shape # 11/2 = 5.5 but we have to round down because we can't invent data to round up"
      ],
      "metadata": {
        "colab": {
          "base_uri": "https://localhost:8080/"
        },
        "id": "7fixRcZsTKxO",
        "outputId": "7af782ce-3314-4a00-97ee-8e2fe8e302f6"
      },
      "execution_count": null,
      "outputs": [
        {
          "output_type": "execute_result",
          "data": {
            "text/plain": [
              "torch.Size([1, 16, 5, 5])"
            ]
          },
          "metadata": {},
          "execution_count": 12
        }
      ]
    },
    {
      "cell_type": "markdown",
      "source": [
        "# Building CNN Model"
      ],
      "metadata": {
        "id": "Wa58wA1CUcg0"
      }
    },
    {
      "cell_type": "code",
      "source": [
        "# Model class\n",
        "class ConvolutionalNetwork(nn.Module):\n",
        "  def __init__(self):\n",
        "    super().__init__()\n",
        "    self.conv1 = nn.Conv2d(1,6,3,1)\n",
        "    self.conv2 = nn.Conv2d(6,16,3,1)\n",
        "    # Fully connected layers\n",
        "    self.fc1 = nn.Linear(5*5*16, 120) # 5x5x16 is obtained from the previous line of code, flatten it to 120 neurons (arbituary)\n",
        "    self.fc2 = nn.Linear(120, 84)\n",
        "    self.fc3 = nn.Linear(84, 10) # Has to end with 10 because we have 10 predicted classes (numbers 0 to 9)\n",
        "\n",
        "  # Forward function\n",
        "  def forward(self, X):\n",
        "    # First pass\n",
        "    X = F.relu(self.conv1(X))\n",
        "    X = F.max_pool2d(X,2,2) # 2x2 kernel and stride 2\n",
        "    # Second pass\n",
        "    X = F.relu(self.conv2(X))\n",
        "    X = F.max_pool2d(X,2,2) # 2x2 kernel and stride 2\n",
        "\n",
        "    # Re-view to flatten it out\n",
        "    X = X.view(-1, 16*5*5) # -1 so that we can vary the batch size\n",
        "\n",
        "    # Fully connected layers\n",
        "    X = F.relu(self.fc1(X))\n",
        "    X = F.relu(self.fc2(X))\n",
        "    X = self.fc3(X) # no need for relu\n",
        "    return F.log_softmax(X, dim=1)\n"
      ],
      "metadata": {
        "id": "sxck3R5NUeoF"
      },
      "execution_count": null,
      "outputs": []
    },
    {
      "cell_type": "code",
      "source": [
        "# Create instance of model\n",
        "torch.manual_seed(123)\n",
        "model = ConvolutionalNetwork()\n",
        "model"
      ],
      "metadata": {
        "colab": {
          "base_uri": "https://localhost:8080/"
        },
        "id": "7g99f6aYWhv6",
        "outputId": "c62764ae-ee30-46e8-aedd-e158aa9a0c2d"
      },
      "execution_count": null,
      "outputs": [
        {
          "output_type": "execute_result",
          "data": {
            "text/plain": [
              "ConvolutionalNetwork(\n",
              "  (conv1): Conv2d(1, 6, kernel_size=(3, 3), stride=(1, 1))\n",
              "  (conv2): Conv2d(6, 16, kernel_size=(3, 3), stride=(1, 1))\n",
              "  (fc1): Linear(in_features=400, out_features=120, bias=True)\n",
              "  (fc2): Linear(in_features=120, out_features=84, bias=True)\n",
              "  (fc3): Linear(in_features=84, out_features=10, bias=True)\n",
              ")"
            ]
          },
          "metadata": {},
          "execution_count": 14
        }
      ]
    },
    {
      "cell_type": "code",
      "source": [
        "# Loss function optimizer\n",
        "criterion = nn.CrossEntropyLoss()\n",
        "optimizer = torch.optim.Adam(model.parameters(), lr=0.001) # smaller lr = longer training time"
      ],
      "metadata": {
        "id": "5uDLnXRsWqh8"
      },
      "execution_count": null,
      "outputs": []
    },
    {
      "cell_type": "code",
      "source": [
        "# Training and testing\n",
        "import time\n",
        "start_time = time.time()\n",
        "\n",
        "# Initialize parameters\n",
        "epochs = 10\n",
        "train_losses = []\n",
        "test_losses = []\n",
        "train_correct =[]\n",
        "test_correct =[]\n",
        "\n",
        "for epoch in range(epochs):\n",
        "  train_corr = 0\n",
        "  test_corr = 0\n",
        "\n",
        "  # Training\n",
        "  for batch, (X_train, y_train) in enumerate(train_loader):\n",
        "    batch += 1 # start our batch at 1\n",
        "    y_pred = model(X_train) # get predicted values from the training set\n",
        "    loss = criterion(y_pred, y_train) # how off are we?\n",
        "\n",
        "    predicted = torch.max(y_pred.data, 1)[1] # sum up the number of correct predictions\n",
        "    batch_corr = (predicted == y_train).sum() # sum up number of correct in batch\n",
        "    train_corr += batch_corr\n",
        "\n",
        "    # Update parameters\n",
        "    optimizer.zero_grad()\n",
        "    loss.backward()\n",
        "    optimizer.step()\n",
        "\n",
        "    # Print results\n",
        "    if batch % 600 == 0:\n",
        "      print(f'Epoch: {epoch}  Batch: {batch}  Loss: {loss.item()}')\n",
        "\n",
        "  train_losses.append(loss)\n",
        "  train_correct.append(train_corr)\n",
        "\n",
        "\n",
        "  # Validation\n",
        "  with torch.no_grad(): # No grad because we do not update weights and biases during testing\n",
        "    for batch, (X_test, y_test) in enumerate(test_loader):\n",
        "      y_val = model(X_test)\n",
        "      predicted = torch.max(y_val.data, 1)[1] # Adding up correct predictions\n",
        "      test_corr += (predicted == y_test).sum()\n",
        "\n",
        "    loss = criterion(y_val, y_test)\n",
        "    test_losses.append(loss)\n",
        "    test_correct.append(test_corr)\n",
        "\n",
        "current_time = time.time()\n",
        "total_time = current_time - start_time\n",
        "print(f'Training took {total_time/60} minutes')"
      ],
      "metadata": {
        "id": "z2RoFrikW_P0",
        "colab": {
          "base_uri": "https://localhost:8080/"
        },
        "outputId": "54f58469-51c7-4d6a-f25d-a1a36cb3e4ab"
      },
      "execution_count": null,
      "outputs": [
        {
          "output_type": "stream",
          "name": "stdout",
          "text": [
            "Epoch: 0  Batch: 600  Loss: 0.2916695475578308\n",
            "Epoch: 0  Batch: 1200  Loss: 0.2221393585205078\n",
            "Epoch: 0  Batch: 1800  Loss: 0.19265395402908325\n",
            "Epoch: 0  Batch: 2400  Loss: 0.11422338336706161\n",
            "Epoch: 0  Batch: 3000  Loss: 0.057844679802656174\n",
            "Epoch: 0  Batch: 3600  Loss: 0.12103337049484253\n",
            "Epoch: 0  Batch: 4200  Loss: 0.6115381121635437\n",
            "Epoch: 0  Batch: 4800  Loss: 0.27090147137641907\n",
            "Epoch: 0  Batch: 5400  Loss: 0.005950583145022392\n",
            "Epoch: 0  Batch: 6000  Loss: 0.02685423195362091\n",
            "Epoch: 1  Batch: 600  Loss: 0.0329289436340332\n",
            "Epoch: 1  Batch: 1200  Loss: 0.001332884537987411\n",
            "Epoch: 1  Batch: 1800  Loss: 0.5471917390823364\n",
            "Epoch: 1  Batch: 2400  Loss: 0.19841298460960388\n",
            "Epoch: 1  Batch: 3000  Loss: 0.0006914833793416619\n",
            "Epoch: 1  Batch: 3600  Loss: 0.014250378124415874\n",
            "Epoch: 1  Batch: 4200  Loss: 0.007611897774040699\n",
            "Epoch: 1  Batch: 4800  Loss: 0.013124721124768257\n",
            "Epoch: 1  Batch: 5400  Loss: 0.06777409464120865\n",
            "Epoch: 1  Batch: 6000  Loss: 0.04506794735789299\n",
            "Epoch: 2  Batch: 600  Loss: 0.005718651227653027\n",
            "Epoch: 2  Batch: 1200  Loss: 0.01852920837700367\n",
            "Epoch: 2  Batch: 1800  Loss: 0.010976233519613743\n",
            "Epoch: 2  Batch: 2400  Loss: 0.0011397534981369972\n",
            "Epoch: 2  Batch: 3000  Loss: 0.02450518123805523\n",
            "Epoch: 2  Batch: 3600  Loss: 0.0004741767479572445\n",
            "Epoch: 2  Batch: 4200  Loss: 0.0061712004244327545\n",
            "Epoch: 2  Batch: 4800  Loss: 0.0016648601740598679\n",
            "Epoch: 2  Batch: 5400  Loss: 0.0019365871557965875\n",
            "Epoch: 2  Batch: 6000  Loss: 0.0004055163008160889\n",
            "Epoch: 3  Batch: 600  Loss: 0.010292088612914085\n",
            "Epoch: 3  Batch: 1200  Loss: 0.0016637668013572693\n",
            "Epoch: 3  Batch: 1800  Loss: 0.00032913629547692835\n",
            "Epoch: 3  Batch: 2400  Loss: 0.003677595406770706\n",
            "Epoch: 3  Batch: 3000  Loss: 0.0005137978005222976\n",
            "Epoch: 3  Batch: 3600  Loss: 0.005127043463289738\n",
            "Epoch: 3  Batch: 4200  Loss: 0.0027209636755287647\n",
            "Epoch: 3  Batch: 4800  Loss: 0.00025999476201832294\n",
            "Epoch: 3  Batch: 5400  Loss: 0.0027344287373125553\n",
            "Epoch: 3  Batch: 6000  Loss: 0.06583736836910248\n",
            "Epoch: 4  Batch: 600  Loss: 0.0008338404586538672\n",
            "Epoch: 4  Batch: 1200  Loss: 0.005246593151241541\n",
            "Epoch: 4  Batch: 1800  Loss: 0.0002024504356086254\n",
            "Epoch: 4  Batch: 2400  Loss: 0.006284893956035376\n",
            "Epoch: 4  Batch: 3000  Loss: 0.00012522410543169826\n",
            "Epoch: 4  Batch: 3600  Loss: 0.2993985116481781\n",
            "Epoch: 4  Batch: 4200  Loss: 0.19175627827644348\n",
            "Epoch: 4  Batch: 4800  Loss: 1.2934006917930674e-05\n",
            "Epoch: 4  Batch: 5400  Loss: 5.12312471983023e-05\n",
            "Epoch: 4  Batch: 6000  Loss: 0.0004224398289807141\n",
            "Epoch: 5  Batch: 600  Loss: 0.16849547624588013\n",
            "Epoch: 5  Batch: 1200  Loss: 0.0001552033645566553\n",
            "Epoch: 5  Batch: 1800  Loss: 0.01020241342484951\n",
            "Epoch: 5  Batch: 2400  Loss: 0.005607332568615675\n",
            "Epoch: 5  Batch: 3000  Loss: 0.0005975454114377499\n",
            "Epoch: 5  Batch: 3600  Loss: 1.116958083002828e-05\n",
            "Epoch: 5  Batch: 4200  Loss: 0.002796452259644866\n",
            "Epoch: 5  Batch: 4800  Loss: 0.007872659713029861\n",
            "Epoch: 5  Batch: 5400  Loss: 0.0012098001316189766\n",
            "Epoch: 5  Batch: 6000  Loss: 0.023669255897402763\n",
            "Epoch: 6  Batch: 600  Loss: 0.047033023089170456\n",
            "Epoch: 6  Batch: 1200  Loss: 2.460376163071487e-05\n",
            "Epoch: 6  Batch: 1800  Loss: 3.740352622116916e-05\n",
            "Epoch: 6  Batch: 2400  Loss: 2.659426536411047e-05\n",
            "Epoch: 6  Batch: 3000  Loss: 0.002288025338202715\n",
            "Epoch: 6  Batch: 3600  Loss: 0.20916791260242462\n",
            "Epoch: 6  Batch: 4200  Loss: 0.0029201831202954054\n",
            "Epoch: 6  Batch: 4800  Loss: 0.021600376814603806\n",
            "Epoch: 6  Batch: 5400  Loss: 0.0004179420357104391\n",
            "Epoch: 6  Batch: 6000  Loss: 0.00011464233102742583\n",
            "Epoch: 7  Batch: 600  Loss: 0.011750019155442715\n",
            "Epoch: 7  Batch: 1200  Loss: 0.00789588037878275\n",
            "Epoch: 7  Batch: 1800  Loss: 0.005181674845516682\n",
            "Epoch: 7  Batch: 2400  Loss: 0.0002166863123420626\n",
            "Epoch: 7  Batch: 3000  Loss: 0.0015751899918541312\n",
            "Epoch: 7  Batch: 3600  Loss: 0.008836988359689713\n",
            "Epoch: 7  Batch: 4200  Loss: 2.895317811635323e-05\n",
            "Epoch: 7  Batch: 4800  Loss: 3.766395821003243e-05\n",
            "Epoch: 7  Batch: 5400  Loss: 0.0009603512589819729\n",
            "Epoch: 7  Batch: 6000  Loss: 0.00010380840103607625\n",
            "Epoch: 8  Batch: 600  Loss: 0.00013123407552484423\n",
            "Epoch: 8  Batch: 1200  Loss: 0.00026095271459780633\n",
            "Epoch: 8  Batch: 1800  Loss: 0.004768739454448223\n",
            "Epoch: 8  Batch: 2400  Loss: 0.004788524005562067\n",
            "Epoch: 8  Batch: 3000  Loss: 1.3314963325683493e-05\n",
            "Epoch: 8  Batch: 3600  Loss: 3.4506931115174666e-05\n",
            "Epoch: 8  Batch: 4200  Loss: 0.06787801533937454\n",
            "Epoch: 8  Batch: 4800  Loss: 0.02826584503054619\n",
            "Epoch: 8  Batch: 5400  Loss: 0.00903620570898056\n",
            "Epoch: 8  Batch: 6000  Loss: 0.0006600766209885478\n",
            "Epoch: 9  Batch: 600  Loss: 5.350620995159261e-05\n",
            "Epoch: 9  Batch: 1200  Loss: 8.106087989290245e-06\n",
            "Epoch: 9  Batch: 1800  Loss: 0.0002557904808782041\n",
            "Epoch: 9  Batch: 2400  Loss: 3.074033884331584e-05\n",
            "Epoch: 9  Batch: 3000  Loss: 9.453393431613222e-05\n",
            "Epoch: 9  Batch: 3600  Loss: 8.190389780793339e-05\n",
            "Epoch: 9  Batch: 4200  Loss: 0.0230302345007658\n",
            "Epoch: 9  Batch: 4800  Loss: 1.168246058114164e-06\n",
            "Epoch: 9  Batch: 5400  Loss: 6.883170863147825e-05\n",
            "Epoch: 9  Batch: 6000  Loss: 0.0005668959347531199\n",
            "Training took 7.531720221042633 minutes\n"
          ]
        }
      ]
    },
    {
      "cell_type": "code",
      "source": [
        "# Graph loss at each epoch\n",
        "train_losses = [tl.item() for tl in train_losses]\n",
        "plt.plot(train_losses, label='Training Loss')\n",
        "plt.plot(test_losses, label='Validation Loss')\n",
        "plt.title('Loss at Epochs')\n",
        "plt.legend()"
      ],
      "metadata": {
        "colab": {
          "base_uri": "https://localhost:8080/",
          "height": 469
        },
        "id": "qDywvk6RacUF",
        "outputId": "3601ff09-114c-4565-e9a9-5c9dd1495b3f"
      },
      "execution_count": null,
      "outputs": [
        {
          "output_type": "execute_result",
          "data": {
            "text/plain": [
              "<matplotlib.legend.Legend at 0x794444303150>"
            ]
          },
          "metadata": {},
          "execution_count": 17
        },
        {
          "output_type": "display_data",
          "data": {
            "text/plain": [
              "<Figure size 640x480 with 1 Axes>"
            ],
            "image/png": "[encoded data removed]"
          },
          "metadata": {}
        }
      ]
    },
    {
      "cell_type": "code",
      "source": [
        "# Graph accuracy at end of each epoch\n",
        "plt.plot([t/600 for t in train_correct], label='Training Accuracy')\n",
        "plt.plot([t/100 for t in test_correct], label='Validation Accuracy')\n",
        "plt.title('Accuracy at Epochs')\n",
        "plt.legend()"
      ],
      "metadata": {
        "colab": {
          "base_uri": "https://localhost:8080/",
          "height": 469
        },
        "id": "440y66_PeVVu",
        "outputId": "093f03a1-da6d-41d7-e398-e1c19f8ae5db"
      },
      "execution_count": null,
      "outputs": [
        {
          "output_type": "execute_result",
          "data": {
            "text/plain": [
              "<matplotlib.legend.Legend at 0x79444435ed10>"
            ]
          },
          "metadata": {},
          "execution_count": 18
        },
        {
          "output_type": "display_data",
          "data": {
            "text/plain": [
              "<Figure size 640x480 with 1 Axes>"
            ],
            "image/png": "[encoded data removed]"
          },
          "metadata": {}
        }
      ]
    },
    {
      "cell_type": "code",
      "source": [
        "test_load_all = DataLoader(test_data, batch_size=10000, shuffle=False)"
      ],
      "metadata": {
        "id": "2i46PiNFiFVd"
      },
      "execution_count": null,
      "outputs": []
    },
    {
      "cell_type": "code",
      "source": [
        "# Test\n",
        "with torch.no_grad():\n",
        "  correct = 0\n",
        "  for X_test, y_test in test_load_all:\n",
        "    y_val = model(X_test)\n",
        "    predicted = torch.max(y_val, 1)[1]\n",
        "    correct += (predicted == y_test).sum()"
      ],
      "metadata": {
        "id": "Y2DpfVUPikM1"
      },
      "execution_count": null,
      "outputs": []
    },
    {
      "cell_type": "code",
      "source": [
        "# Check accuracy\n",
        "correct.item()/len(test_data)*100"
      ],
      "metadata": {
        "colab": {
          "base_uri": "https://localhost:8080/"
        },
        "id": "C9vVpHHhovGy",
        "outputId": "c5071881-b5b4-49b1-a741-2a52e331bb5b"
      },
      "execution_count": null,
      "outputs": [
        {
          "output_type": "execute_result",
          "data": {
            "text/plain": [
              "98.76"
            ]
          },
          "metadata": {},
          "execution_count": 21
        }
      ]
    },
    {
      "cell_type": "code",
      "source": [
        "# Predict a new image\n",
        "new_image = test_data[4145][0].reshape(28,28)\n",
        "plt.imshow(new_image) # model should output '8'"
      ],
      "metadata": {
        "colab": {
          "base_uri": "https://localhost:8080/",
          "height": 447
        },
        "id": "TpHEeQ5bX4Uj",
        "outputId": "c23ab97e-54fc-4d4b-e13e-5529480daca0"
      },
      "execution_count": null,
      "outputs": [
        {
          "output_type": "execute_result",
          "data": {
            "text/plain": [
              "<matplotlib.image.AxesImage at 0x79443c156790>"
            ]
          },
          "metadata": {},
          "execution_count": 27
        },
        {
          "output_type": "display_data",
          "data": {
            "text/plain": [
              "<Figure size 640x480 with 1 Axes>"
            ],
            "image/png": "[encoded data removed]"
          },
          "metadata": {}
        }
      ]
    },
    {
      "cell_type": "code",
      "source": [
        "# Pass image through model\n",
        "model.eval() # switch the model to evaluation mode instead of training mode\n",
        "with torch.no_grad():\n",
        "  new_prediction = model(new_image.view(1,1,28,28)) # batch size 1, color channel 1, and 28x28 dimension"
      ],
      "metadata": {
        "id": "eOpKTBWbaP4S"
      },
      "execution_count": null,
      "outputs": []
    },
    {
      "cell_type": "code",
      "source": [
        "# Check new prediction (tensor with highest probability)\n",
        "new_prediction.argmax() # Correct!"
      ],
      "metadata": {
        "colab": {
          "base_uri": "https://localhost:8080/"
        },
        "id": "k0i9cpqsbJXv",
        "outputId": "f25f1538-da89-420c-d5ff-3fd8b79a6d96"
      },
      "execution_count": null,
      "outputs": [
        {
          "output_type": "execute_result",
          "data": {
            "text/plain": [
              "tensor(8)"
            ]
          },
          "metadata": {},
          "execution_count": 31
        }
      ]
    }
  ]
}